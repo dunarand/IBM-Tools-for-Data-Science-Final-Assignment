{
 "cells": [
  {
   "cell_type": "markdown",
   "id": "b5140216-9e77-4879-8160-214dbaf6e5f6",
   "metadata": {},
   "source": [
    "# Data Science Tools and Ecosystem"
   ]
  },
  {
   "cell_type": "markdown",
   "id": "2146c87a-ebbc-4f37-84db-e146cad1c2ff",
   "metadata": {
    "tags": []
   },
   "source": [
    "In this notebook, Data Science Tools and Ecosystem are summarized."
   ]
  },
  {
   "cell_type": "markdown",
   "id": "c8441faf-8672-4b68-b1bb-795dfe2d53a3",
   "metadata": {},
   "source": [
    "**Objectives:**\n",
    "\n",
    "- List popular languages for Data Science\n",
    "- List commonly used libraries for Data Science\n",
    "- List some open-source tools used in Data Science\n",
    "- Show the usage of code blocks and executing code in Python within the Jupyter Notebook instance"
   ]
  },
  {
   "cell_type": "markdown",
   "id": "d1e34957-87e7-40d3-9aff-ca9a786ca238",
   "metadata": {},
   "source": [
    "Some of the popular languages that Data Scientists use are:\n",
    "\n",
    "1. Python\n",
    "2. R\n",
    "3. Java\n",
    "4. Julia\n",
    "5. C++\n",
    "6. Scala"
   ]
  },
  {
   "cell_type": "markdown",
   "id": "c5d82bcd-6295-4ebb-840c-9b201b79f53c",
   "metadata": {},
   "source": [
    "Some of the commonly used libraries used by Data Scientists include:\n",
    "\n",
    "1. Numpy\n",
    "2. Pandas\n",
    "3. Matplotlib\n",
    "4. Seaborn\n",
    "5. Scikit-Learn\n",
    "6. PyTorch\n",
    "7. Tensorflow\n",
    "8. Keras"
   ]
  },
  {
   "cell_type": "markdown",
   "id": "2f08dc24-8cee-46d9-8513-1348cad8622f",
   "metadata": {},
   "source": [
    "|Data Science Tools|\n",
    "|------------------|\n",
    "|Apache Spark|\n",
    "|Git|\n",
    "|TensorFlow.js|\n",
    "|MongoDB|"
   ]
  },
  {
   "cell_type": "markdown",
   "id": "e0303d33-b43f-4e32-90a6-5bf4125c5040",
   "metadata": {},
   "source": [
    "### Below are a few examples of evaluating arithmetic expressions in Python"
   ]
  },
  {
   "cell_type": "code",
   "execution_count": 3,
   "id": "478f900f-cc05-4d74-afb6-f0464950b1b5",
   "metadata": {
    "tags": []
   },
   "outputs": [
    {
     "data": {
      "text/plain": [
       "17"
      ]
     },
     "execution_count": 3,
     "metadata": {},
     "output_type": "execute_result"
    }
   ],
   "source": [
    "# This a simple arithmetic expression to mutiply then add integers\n",
    "(3 * 4) + 5"
   ]
  },
  {
   "cell_type": "code",
   "execution_count": 4,
   "id": "2c66f832-5240-48f8-a285-bcd42f3dcc98",
   "metadata": {
    "tags": []
   },
   "outputs": [
    {
     "data": {
      "text/plain": [
       "3.3333333333333335"
      ]
     },
     "execution_count": 4,
     "metadata": {},
     "output_type": "execute_result"
    }
   ],
   "source": [
    "# This will convert 200 minutes to hours by diving by 60\n",
    "200 / 60"
   ]
  },
  {
   "cell_type": "markdown",
   "id": "ee102124-a469-4e07-b392-8944cd8155a7",
   "metadata": {},
   "source": [
    "## Author\n",
    "M. Görkem Ulutürk"
   ]
  }
 ],
 "metadata": {
  "kernelspec": {
   "display_name": "Python",
   "language": "python",
   "name": "conda-env-python-py"
  },
  "language_info": {
   "codemirror_mode": {
    "name": "ipython",
    "version": 3
   },
   "file_extension": ".py",
   "mimetype": "text/x-python",
   "name": "python",
   "nbconvert_exporter": "python",
   "pygments_lexer": "ipython3",
   "version": "3.7.12"
  }
 },
 "nbformat": 4,
 "nbformat_minor": 5
}
